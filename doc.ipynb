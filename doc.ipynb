{
 "cells": [
  {
   "cell_type": "markdown",
   "metadata": {},
   "source": [
    "**Let's Learn SQLALCHEMY**\n"
   ]
  },
  {
   "cell_type": "markdown",
   "metadata": {},
   "source": [
    "**EP1 start**"
   ]
  },
  {
   "cell_type": "markdown",
   "metadata": {},
   "source": [
    "When you want to use SQLALCHEMY to connect to DB there are 3 layers:\n",
    "<br>\n",
    "1.DBAPI\n",
    "<br>\n",
    "2.Core\n",
    "<br>\n",
    "3.ORM\n",
    "<br>\n",
    "\n",
    "---\n",
    "\n",
    "What is **DBAPI**?\n",
    "<br>\n",
    "DBAPI is like a driver , a standard that tell python libraries that if you want to connect to database you should adhere some rules.\n",
    "<br>\n",
    "also we can define it with python oop like this:\n",
    "\n",
    "<pre>\n",
    "from abc import ABC,abstractmethod\n",
    "class DBAPI(ABC):\n",
    "    @abstractmethod\n",
    "    def connect(self):\n",
    "        pass\n",
    "    \n",
    "    @abstractmethod\n",
    "    def cusror(self):\n",
    "        pass\n",
    "\n",
    "class PSYCOPG(DBAPI):\n",
    "    def connect(self):\n",
    "        # implement psql logics\n",
    "        return psql.connection\n",
    "    def cusror(self):\n",
    "        # implement psql logics\n",
    "        return psql.cursor\n",
    "\n",
    "class PYMYSQL(DBAPI):\n",
    "    def connect(self):\n",
    "        # implement mysql logics\n",
    "        return mysql.connection\n",
    "    def cusror(self):\n",
    "        # implement mysql logics\n",
    "        return mysql.cursor\n",
    "</pre>\n",
    "<br>\n",
    "<br>\n",
    "so \n",
    "<br>\n",
    "DBAPI -> abstract class (interface)\n",
    "<br>\n",
    ".connect(),.cursor(),... -> abstractmethods\n",
    "<br>\n",
    "psycopg,pymysql,sqlite -> concrete class\n"
   ]
  }
 ],
 "metadata": {
  "language_info": {
   "name": "python"
  }
 },
 "nbformat": 4,
 "nbformat_minor": 2
}
